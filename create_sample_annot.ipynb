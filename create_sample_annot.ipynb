{
 "cells": [
  {
   "cell_type": "markdown",
   "id": "60aafbc7-5f50-412c-b768-f12ff20c3962",
   "metadata": {},
   "source": [
    "### This notebooks creates samples annotation tsv file needed to run drop"
   ]
  },
  {
   "cell_type": "code",
   "execution_count": 3,
   "id": "ecd1ce68-b711-4da2-b9ab-a9657ed5e3af",
   "metadata": {},
   "outputs": [
    {
     "data": {
      "text/plain": [
       "'\\nRNA_ID (the sampleID)\\nRNA_BAM_FILE (the file path to the corresponding bam file of the sample)\\nDROP_GROUP = group1 (not relevant in this analysis)\\nPAIRED_END = TRUE (the samples were sequenced with a paired-end protocol, so set this to true)\\nSTRAND = no (sequencing was not strand specific)\\nCOUNT_MODE = IntersectionStrict\\nCOUNT_OVERLAPS = TRUE\\n'"
      ]
     },
     "execution_count": 3,
     "metadata": {},
     "output_type": "execute_result"
    }
   ],
   "source": [
    "\"\"\"\n",
    "RNA_ID (the sampleID)\n",
    "RNA_BAM_FILE (the file path to the corresponding bam file of the sample)\n",
    "DROP_GROUP = group1 (not relevant in this analysis)\n",
    "PAIRED_END = TRUE (the samples were sequenced with a paired-end protocol, so set this to true)\n",
    "STRAND = no (sequencing was not strand specific)\n",
    "COUNT_MODE = IntersectionStrict\n",
    "COUNT_OVERLAPS = TRUE\n",
    "\"\"\""
   ]
  },
  {
   "cell_type": "code",
   "execution_count": 1,
   "id": "fb26ed36-7da6-4e71-b0c4-a1fc4fa2a630",
   "metadata": {},
   "outputs": [
    {
     "name": "stdout",
     "output_type": "stream",
     "text": [
      "100\n"
     ]
    }
   ],
   "source": [
    "import os\n",
    "import pandas as pd\n",
    "\n",
    "datafolder_path = \"/s/project/first_last_exon/Data/input_data/rna-seq/\"\n",
    "bam_files_list = [f for f in os.listdir(datafolder_path) if not f.endswith(\"_chr1.bam\") and f.endswith(\".bam\") and not \"reduced\" in f]\n",
    "print(len(bam_files_list))\n",
    "sample_annot_dict = {\n",
    "    \"RNA_ID\": [],\n",
    "    \"RNA_BAM_FILE\": [],\n",
    "    \"DROP_GROUP\": [],\n",
    "    \"PAIRED_END\": [],\n",
    "    \"STRAND\": [],\n",
    "    \"COUNT_MODE\": [],\n",
    "    \"COUNT_OVERLAPS\": [],\n",
    "    \"DNA_VCF_FILE\": [],\n",
    "    \"DNA_ID\": []\n",
    "    \n",
    "}\n",
    "\n",
    "\n",
    "for f in bam_files_list:\n",
    "    sample_name = f.split(\".M\")[0]\n",
    "    bam_file_path = os.path.join(datafolder_path, f)\n",
    "    sample_annot_dict[\"RNA_ID\"].append(sample_name)\n",
    "    sample_annot_dict[\"DNA_VCF_FILE\"].append(\"\")\n",
    "    sample_annot_dict[\"DNA_ID\"].append(\"\")\n",
    "    sample_annot_dict[\"RNA_BAM_FILE\"].append(bam_file_path)\n",
    "    sample_annot_dict[\"DROP_GROUP\"].append(\"group1\")\n",
    "    sample_annot_dict[\"PAIRED_END\"].append(True)\n",
    "    sample_annot_dict[\"STRAND\"].append(\"no\")\n",
    "    sample_annot_dict[\"COUNT_MODE\"].append(\"IntersectionStrict\")\n",
    "    sample_annot_dict[\"COUNT_OVERLAPS\"].append(True)\n",
    "    \n",
    "\n",
    "header = [\"RNA_ID\",\n",
    "    \"RNA_BAM_FILE\",\n",
    "    \"DROP_GROUP\",\n",
    "    \"PAIRED_END\",\n",
    "    \"STRAND\",\n",
    "    \"COUNT_MODE\",\n",
    "    \"COUNT_OVERLAPS\",\n",
    "         \"DNA_VCF_FILE\",\n",
    "         \"DNA_ID\"]\n",
    "\n",
    "sample_annot_df = pd.DataFrame(sample_annot_dict)\n",
    "sample_annot_df.to_csv(\"Data/sample_annot_whole.tsv\", index=False, sep='\\t', header=header)\n",
    "    "
   ]
  },
  {
   "cell_type": "code",
   "execution_count": null,
   "id": "ca57ba8a-701f-4fa5-925f-17c207e68c7b",
   "metadata": {},
   "outputs": [],
   "source": []
  }
 ],
 "metadata": {
  "kernelspec": {
   "display_name": "Python [conda env:.conda-first_last_exon]",
   "language": "python",
   "name": "conda-env-.conda-first_last_exon-py"
  },
  "language_info": {
   "codemirror_mode": {
    "name": "ipython",
    "version": 3
   },
   "file_extension": ".py",
   "mimetype": "text/x-python",
   "name": "python",
   "nbconvert_exporter": "python",
   "pygments_lexer": "ipython3",
   "version": "3.6.3"
  }
 },
 "nbformat": 4,
 "nbformat_minor": 5
}
