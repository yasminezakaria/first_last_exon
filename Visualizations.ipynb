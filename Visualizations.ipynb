{
 "cells": [
  {
   "cell_type": "code",
   "execution_count": 8,
   "id": "1f0a1c99-4cd7-4a2e-ac20-a56a9f07a312",
   "metadata": {},
   "outputs": [],
   "source": [
    "import pandas as pd\n",
    "\n",
    "classes_labels_set = [\"first\", \"FirstInternal_medium\", \"FirstInternal_high\", \"last\", \"InternalLast_medium\", \"InternalLast_high\", \"internal\"]\n",
    "classes_labels_dict = {\"first\": 0, \n",
    "                       \"FirstInternal_medium\": 1, \n",
    "                       \"FirstInternal_high\": 2, \n",
    "                       \"last\": 3, \n",
    "                       \"InternalLast_medium\": 4, \n",
    "                       \"InternalLast_high\": 5, \n",
    "                       \"internal\": 6\n",
    "                      }\n",
    "\n",
    "freq_matrix = []\n",
    "# try on just 1 sample\n",
    "exon_file_path = \"/s/project/first_last_exon/Data/output_data/HITindex/rna_seq/step_2/chr_files/NA20529.2.M_111215_6_HITindex.exon\"\n",
    "df = pd.read_csv(exon_file_path,  sep='\\t')\n",
    "\n",
    "for before in classes_labels_dict.keys():\n",
    "    curr_counts = [0,0,0,0,0,0,0]\n",
    "    for after in classes_labels_dict.keys():\n",
    "        count = len(df[(df[\"ID\"] == before) & (df[\"ID_position\"] == after)])\n",
    "        curr_counts[classes_labels_dict[after]] = count\n",
    "    freq_matrix.append(curr_counts)"
   ]
  },
  {
   "cell_type": "code",
   "execution_count": 9,
   "id": "57fb2d0b-89cc-4d6b-a7f3-eb49dffa7163",
   "metadata": {},
   "outputs": [
    {
     "data": {
      "text/plain": [
       "<matplotlib.colorbar.Colorbar at 0x14c5371b7d68>"
      ]
     },
     "execution_count": 9,
     "metadata": {},
     "output_type": "execute_result"
    },
    {
     "data": {
      "image/png": "[encoded data removed]",
      "text/plain": [
       "<Figure size 432x288 with 2 Axes>"
      ]
     },
     "metadata": {
      "needs_background": "light"
     },
     "output_type": "display_data"
    }
   ],
   "source": [
    "import matplotlib.pyplot as plt\n",
    "plt.imshow(freq_matrix)\n",
    "plt.colorbar()"
   ]
  },
  {
   "cell_type": "code",
   "execution_count": null,
   "id": "6c019dc1-fb1b-4755-b7bf-bef1c86399d8",
   "metadata": {},
   "outputs": [],
   "source": [
    "print(1)"
   ]
  },
  {
   "cell_type": "code",
   "execution_count": null,
   "id": "1d40497f-0858-4620-b37b-4c34d19aef8c",
   "metadata": {},
   "outputs": [],
   "source": []
  }
 ],
 "metadata": {
  "kernelspec": {
   "display_name": "Python [conda env:.conda-first_last_exon]",
   "language": "python",
   "name": "conda-env-.conda-first_last_exon-py"
  },
  "language_info": {
   "codemirror_mode": {
    "name": "ipython",
    "version": 3
   },
   "file_extension": ".py",
   "mimetype": "text/x-python",
   "name": "python",
   "nbconvert_exporter": "python",
   "pygments_lexer": "ipython3",
   "version": "3.6.3"
  }
 },
 "nbformat": 4,
 "nbformat_minor": 5
}
